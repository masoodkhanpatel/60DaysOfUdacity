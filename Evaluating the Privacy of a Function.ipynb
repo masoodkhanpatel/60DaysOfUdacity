{
  "nbformat": 4,
  "nbformat_minor": 0,
  "metadata": {
    "colab": {
      "name": "Evaluating the Privacy of a Function.ipynb",
      "version": "0.3.2",
      "provenance": [],
      "include_colab_link": true
    },
    "kernelspec": {
      "name": "python3",
      "display_name": "Python 3"
    }
  },
  "cells": [
    {
      "cell_type": "markdown",
      "metadata": {
        "id": "view-in-github",
        "colab_type": "text"
      },
      "source": [
        "<a href=\"https://colab.research.google.com/github/resilientmax/60DaysOfUdacity/blob/master/Evaluating%20the%20Privacy%20of%20a%20Function.ipynb\" target=\"_parent\"><img src=\"https://colab.research.google.com/assets/colab-badge.svg\" alt=\"Open In Colab\"/></a>"
      ]
    },
    {
      "cell_type": "code",
      "metadata": {
        "id": "fJuzfR_GwvPw",
        "colab_type": "code",
        "colab": {}
      },
      "source": [
        "import torch\n",
        "\n",
        "# the number of entries in our database\n",
        "num_entries = 5000\n",
        "\n",
        "db = torch.rand(num_entries) > 0.5"
      ],
      "execution_count": 0,
      "outputs": []
    },
    {
      "cell_type": "code",
      "metadata": {
        "id": "QSqpeMqkw2Ev",
        "colab_type": "code",
        "colab": {}
      },
      "source": [
        "def get_parallel_db(db, remove_index):\n",
        "\n",
        "    return torch.cat((db[0:remove_index], \n",
        "                      db[remove_index+1:]))\n",
        "\n",
        "\n",
        "def get_parallel_dbs(db):\n",
        "\n",
        "    parallel_dbs = list()\n",
        "\n",
        "    for i in range(len(db)):\n",
        "        pdb = get_parallel_db(db, i)\n",
        "        parallel_dbs.append(pdb)\n",
        "    \n",
        "    return parallel_dbs\n",
        "\n",
        "\n",
        "def create_db_and_parallels(num_entries):\n",
        "    \n",
        "    db = torch.rand(num_entries) > 0.5\n",
        "    pdbs = get_parallel_dbs(db)\n",
        "    \n",
        "    return db, pdbs"
      ],
      "execution_count": 0,
      "outputs": []
    },
    {
      "cell_type": "code",
      "metadata": {
        "id": "XkY0SQHEw_Wt",
        "colab_type": "code",
        "colab": {}
      },
      "source": [
        "def sensitivity(query, n_entries=1000):\n",
        "\n",
        "    db, pdbs = create_db_and_parallels(n_entries)\n",
        "    \n",
        "    full_db_result = query(db)\n",
        "    \n",
        "    max_distance = 0\n",
        "    for pdb in pdbs:\n",
        "        pdb_result = query(pdb)\n",
        "\n",
        "        db_distance = torch.abs(pdb_result - full_db_result)\n",
        "\n",
        "        if(db_distance > max_distance):\n",
        "            max_distance = db_distance\n",
        "            \n",
        "    return max_distance"
      ],
      "execution_count": 0,
      "outputs": []
    },
    {
      "cell_type": "code",
      "metadata": {
        "id": "DA5-ZV89xAHq",
        "colab_type": "code",
        "colab": {}
      },
      "source": [
        "def query(db):\n",
        "    return db.float().mean()"
      ],
      "execution_count": 0,
      "outputs": []
    },
    {
      "cell_type": "code",
      "metadata": {
        "id": "YizTjMFfxE9E",
        "colab_type": "code",
        "colab": {
          "base_uri": "https://localhost:8080/",
          "height": 34
        },
        "outputId": "cebe7d74-dbc0-44be-e239-c79993d3a5f6"
      },
      "source": [
        "sensitivity(query, 500)"
      ],
      "execution_count": 11,
      "outputs": [
        {
          "output_type": "execute_result",
          "data": {
            "text/plain": [
              "tensor(0.0010)"
            ]
          },
          "metadata": {
            "tags": []
          },
          "execution_count": 11
        }
      ]
    },
    {
      "cell_type": "code",
      "metadata": {
        "id": "SYKRuCbaxRdK",
        "colab_type": "code",
        "colab": {}
      },
      "source": [
        ""
      ],
      "execution_count": 0,
      "outputs": []
    }
  ]
}